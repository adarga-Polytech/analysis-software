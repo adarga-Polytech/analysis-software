{
 "cells": [
  {
   "cell_type": "code",
   "execution_count": 1,
   "metadata": {
    "collapsed": true
   },
   "outputs": [],
   "source": [
    "import sympy\n",
    "\n",
    "sa = sympy.symbols('c f b e', real=True)\n",
    "c, f, b, e = sa\n",
    "\n",
    "sb = sympy.symbols('a d', real=True, positive=True)\n",
    "a, d = sb\n",
    "\n",
    "\n",
    "#a = I0\n",
    "#b = Ia\n",
    "#c = Va\n",
    "#d = n\n",
    "#e = Ib\n",
    "#f = Vb\n",
    "\n",
    "\n",
    "eqnSys1 = -a*(sympy.exp(38.4064846567063*(0.515107067876097*b + c)/d) - 1) - 1.0006522465381*b - 0.00126623488352542*c + 8.68885843001594\n",
    "eqnSys2 = -a*(sympy.exp(38.4064846567063*(0.515107067876097*e + f)/d) - 1) - 1.0006522465381*e - 0.00126623488352542*f + 8.68885843001594\n",
    "\n",
    "eqnSys = (eqnSys1,eqnSys2)"
   ]
  },
  {
   "cell_type": "code",
   "execution_count": null,
   "metadata": {},
   "outputs": [],
   "source": [
    "sympy.solve(eqnSys,(a,d))"
   ]
  },
  {
   "cell_type": "code",
   "execution_count": null,
   "metadata": {
    "collapsed": true
   },
   "outputs": [],
   "source": []
  }
 ],
 "metadata": {
  "kernelspec": {
   "display_name": "Python 3",
   "language": "python",
   "name": "python3"
  },
  "language_info": {
   "codemirror_mode": {
    "name": "ipython",
    "version": 3
   },
   "file_extension": ".py",
   "mimetype": "text/x-python",
   "name": "python",
   "nbconvert_exporter": "python",
   "pygments_lexer": "ipython3",
   "version": "3.6.3"
  }
 },
 "nbformat": 4,
 "nbformat_minor": 2
}
